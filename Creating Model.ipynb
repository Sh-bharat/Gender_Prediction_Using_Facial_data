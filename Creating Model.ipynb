{
 "cells": [
  {
   "cell_type": "raw",
   "id": "dd862732",
   "metadata": {},
   "source": [
    "# Dataset was taken from Kaggle\n",
    "# Dataset Link: https://www.kaggle.com/datasets/ashwingupta3012/male-and-female-faces-dataset"
   ]
  },
  {
   "cell_type": "code",
   "execution_count": 3,
   "id": "6f075ed7",
   "metadata": {},
   "outputs": [
    {
     "data": {
      "text/plain": [
       "'C:\\\\Users\\\\bhara\\\\J_Component'"
      ]
     },
     "execution_count": 3,
     "metadata": {},
     "output_type": "execute_result"
    }
   ],
   "source": [
    "#Loading dataset\n",
    "os.getcwd()"
   ]
  },
  {
   "cell_type": "code",
   "execution_count": 2,
   "id": "1c715ff8",
   "metadata": {},
   "outputs": [
    {
     "name": "stdout",
     "output_type": "stream",
     "text": [
      "WARNING:tensorflow:From C:\\Users\\bhara\\anaconda3\\Lib\\site-packages\\keras\\src\\losses.py:2976: The name tf.losses.sparse_softmax_cross_entropy is deprecated. Please use tf.compat.v1.losses.sparse_softmax_cross_entropy instead.\n",
      "\n"
     ]
    }
   ],
   "source": [
    "import os\n",
    "import cv2\n",
    "from tqdm import tqdm\n",
    "import tensorflow as tf\n",
    "from tensorflow import keras\n",
    "from keras.preprocessing.image import ImageDataGenerator"
   ]
  },
  {
   "cell_type": "code",
   "execution_count": 4,
   "id": "b200146f",
   "metadata": {},
   "outputs": [
    {
     "name": "stdout",
     "output_type": "stream",
     "text": [
      "Found 2849 images belonging to 2 classes.\n",
      "Found 501 images belonging to 2 classes.\n"
     ]
    }
   ],
   "source": [
    "image_generator = tf.keras.preprocessing.image.ImageDataGenerator(rescale=1/255,rotation_range=4,width_shift_range=0.2,height_shift_range=0.2,shear_range=0.2,horizontal_flip=True,fill_mode='nearest', validation_split=0.15)\n",
    "train_ds = image_generator.flow_from_directory(os.getcwd()+str(\"/Dataset\"),subset='training')\n",
    "test_ds = image_generator.flow_from_directory(os.getcwd()+str(\"/Dataset\"),subset='validation')"
   ]
  },
  {
   "cell_type": "code",
   "execution_count": 40,
   "id": "98349474",
   "metadata": {},
   "outputs": [],
   "source": [
    "model=keras.Sequential()\n",
    "model.add(keras.layers.Conv2D(32,kernel_size=(3,3),padding='valid',activation='relu',input_shape=(256,256,3)))\n",
    "model.add(keras.layers.MaxPooling2D(pool_size=(2,2),strides=2,padding='valid'))\n",
    "\n",
    "model.add(keras.layers.Conv2D(64,kernel_size=(3,3),padding='valid',activation='relu'))\n",
    "model.add(keras.layers.MaxPooling2D(pool_size=(2,2),strides=2,padding='valid'))\n",
    "\n",
    "model.add(keras.layers.Conv2D(128,kernel_size=(3,3),padding='valid',activation='relu'))\n",
    "model.add(keras.layers.MaxPooling2D(pool_size=(2,2),strides=2,padding='valid'))\n",
    "\n",
    "model.add(keras.layers.Conv2D(256,kernel_size=(3,3),padding='valid',activation='relu'))\n",
    "model.add(keras.layers.MaxPooling2D(pool_size=(2,2),strides=2,padding='valid'))\n",
    "\n",
    "model.add(keras.layers.Flatten())\n",
    "\n",
    "model.add(keras.layers.Dense(64,activation='relu'))\n",
    "model.add(keras.layers.Dense(2,activation='softmax'))\n"
   ]
  },
  {
   "cell_type": "code",
   "execution_count": 41,
   "id": "08fbf76e",
   "metadata": {},
   "outputs": [
    {
     "name": "stdout",
     "output_type": "stream",
     "text": [
      "Model: \"sequential_10\"\n",
      "_________________________________________________________________\n",
      " Layer (type)                Output Shape              Param #   \n",
      "=================================================================\n",
      " conv2d_41 (Conv2D)          (None, 254, 254, 32)      896       \n",
      "                                                                 \n",
      " max_pooling2d_41 (MaxPooli  (None, 127, 127, 32)      0         \n",
      " ng2D)                                                           \n",
      "                                                                 \n",
      " conv2d_42 (Conv2D)          (None, 125, 125, 64)      18496     \n",
      "                                                                 \n",
      " max_pooling2d_42 (MaxPooli  (None, 62, 62, 64)        0         \n",
      " ng2D)                                                           \n",
      "                                                                 \n",
      " conv2d_43 (Conv2D)          (None, 60, 60, 128)       73856     \n",
      "                                                                 \n",
      " max_pooling2d_43 (MaxPooli  (None, 30, 30, 128)       0         \n",
      " ng2D)                                                           \n",
      "                                                                 \n",
      " conv2d_44 (Conv2D)          (None, 28, 28, 256)       295168    \n",
      "                                                                 \n",
      " max_pooling2d_44 (MaxPooli  (None, 14, 14, 256)       0         \n",
      " ng2D)                                                           \n",
      "                                                                 \n",
      " flatten_10 (Flatten)        (None, 50176)             0         \n",
      "                                                                 \n",
      " dense_23 (Dense)            (None, 64)                3211328   \n",
      "                                                                 \n",
      " dense_24 (Dense)            (None, 2)                 130       \n",
      "                                                                 \n",
      "=================================================================\n",
      "Total params: 3599874 (13.73 MB)\n",
      "Trainable params: 3599874 (13.73 MB)\n",
      "Non-trainable params: 0 (0.00 Byte)\n",
      "_________________________________________________________________\n"
     ]
    }
   ],
   "source": [
    "model.summary()"
   ]
  },
  {
   "cell_type": "code",
   "execution_count": 42,
   "id": "ae7a926c",
   "metadata": {},
   "outputs": [],
   "source": [
    "model.compile(optimizer='adam',loss='binary_crossentropy',metrics=['accuracy'])"
   ]
  },
  {
   "cell_type": "code",
   "execution_count": 43,
   "id": "639ab150",
   "metadata": {
    "scrolled": true
   },
   "outputs": [
    {
     "name": "stdout",
     "output_type": "stream",
     "text": [
      "Epoch 1/2\n",
      "90/90 [==============================] - 182s 2s/step - loss: 0.6517 - accuracy: 0.6030 - val_loss: 0.5661 - val_accuracy: 0.7325\n",
      "Epoch 2/2\n",
      "90/90 [==============================] - 174s 2s/step - loss: 0.5717 - accuracy: 0.7192 - val_loss: 0.4836 - val_accuracy: 0.7904\n"
     ]
    },
    {
     "data": {
      "text/plain": [
       "<keras.src.callbacks.History at 0x1f3400a5350>"
      ]
     },
     "execution_count": 43,
     "metadata": {},
     "output_type": "execute_result"
    }
   ],
   "source": [
    "model.fit(train_ds,epochs=2,validation_data=test_ds)"
   ]
  },
  {
   "cell_type": "code",
   "execution_count": 44,
   "id": "56ed9a91",
   "metadata": {},
   "outputs": [
    {
     "name": "stdout",
     "output_type": "stream",
     "text": [
      "Epoch 3/10\n",
      "90/90 [==============================] - 175s 2s/step - loss: 0.5212 - accuracy: 0.7515 - val_loss: 0.4526 - val_accuracy: 0.8044\n",
      "Epoch 4/10\n",
      "90/90 [==============================] - 192s 2s/step - loss: 0.4739 - accuracy: 0.7782 - val_loss: 0.4485 - val_accuracy: 0.8144\n",
      "Epoch 5/10\n",
      "90/90 [==============================] - 197s 2s/step - loss: 0.4358 - accuracy: 0.8112 - val_loss: 0.3744 - val_accuracy: 0.8443\n",
      "Epoch 6/10\n",
      "90/90 [==============================] - 197s 2s/step - loss: 0.3617 - accuracy: 0.8435 - val_loss: 0.3279 - val_accuracy: 0.8762\n",
      "Epoch 7/10\n",
      "90/90 [==============================] - 177s 2s/step - loss: 0.3357 - accuracy: 0.8554 - val_loss: 0.3102 - val_accuracy: 0.8862\n",
      "Epoch 8/10\n",
      "90/90 [==============================] - 191s 2s/step - loss: 0.2988 - accuracy: 0.8831 - val_loss: 0.3161 - val_accuracy: 0.8403\n",
      "Epoch 9/10\n",
      "90/90 [==============================] - 181s 2s/step - loss: 0.2848 - accuracy: 0.8873 - val_loss: 0.2310 - val_accuracy: 0.9102\n",
      "Epoch 10/10\n",
      "90/90 [==============================] - 179s 2s/step - loss: 0.2373 - accuracy: 0.9101 - val_loss: 0.1918 - val_accuracy: 0.9122\n"
     ]
    },
    {
     "data": {
      "text/plain": [
       "<keras.src.callbacks.History at 0x1f340254450>"
      ]
     },
     "execution_count": 44,
     "metadata": {},
     "output_type": "execute_result"
    }
   ],
   "source": [
    "model.fit(train_ds,epochs=10,validation_data=test_ds,initial_epoch=2)"
   ]
  },
  {
   "cell_type": "code",
   "execution_count": 45,
   "id": "28c8a7a9",
   "metadata": {},
   "outputs": [
    {
     "name": "stdout",
     "output_type": "stream",
     "text": [
      "Epoch 11/15\n",
      "90/90 [==============================] - 165s 2s/step - loss: 0.2144 - accuracy: 0.9168 - val_loss: 0.1716 - val_accuracy: 0.9321\n",
      "Epoch 12/15\n",
      "90/90 [==============================] - 148s 2s/step - loss: 0.2040 - accuracy: 0.9193 - val_loss: 0.1687 - val_accuracy: 0.9301\n",
      "Epoch 13/15\n",
      "90/90 [==============================] - 136s 2s/step - loss: 0.1629 - accuracy: 0.9372 - val_loss: 0.1645 - val_accuracy: 0.9461\n",
      "Epoch 14/15\n",
      "90/90 [==============================] - 170s 2s/step - loss: 0.1602 - accuracy: 0.9330 - val_loss: 0.1579 - val_accuracy: 0.9421\n",
      "Epoch 15/15\n",
      "90/90 [==============================] - 181s 2s/step - loss: 0.1440 - accuracy: 0.9445 - val_loss: 0.1323 - val_accuracy: 0.9561\n"
     ]
    },
    {
     "data": {
      "text/plain": [
       "<keras.src.callbacks.History at 0x1f33fcfbd50>"
      ]
     },
     "execution_count": 45,
     "metadata": {},
     "output_type": "execute_result"
    }
   ],
   "source": [
    "model.fit(train_ds,epochs=15,validation_data=test_ds,initial_epoch=10)"
   ]
  },
  {
   "cell_type": "code",
   "execution_count": 46,
   "id": "150028b7",
   "metadata": {},
   "outputs": [
    {
     "name": "stdout",
     "output_type": "stream",
     "text": [
      "Epoch 16/20\n",
      "90/90 [==============================] - 165s 2s/step - loss: 0.1302 - accuracy: 0.9470 - val_loss: 0.1476 - val_accuracy: 0.9401\n",
      "Epoch 17/20\n",
      "90/90 [==============================] - 146s 2s/step - loss: 0.1254 - accuracy: 0.9498 - val_loss: 0.1447 - val_accuracy: 0.9521\n",
      "Epoch 18/20\n",
      "90/90 [==============================] - 155s 2s/step - loss: 0.1363 - accuracy: 0.9410 - val_loss: 0.1836 - val_accuracy: 0.9301\n",
      "Epoch 19/20\n",
      "90/90 [==============================] - 151s 2s/step - loss: 0.1081 - accuracy: 0.9565 - val_loss: 0.2047 - val_accuracy: 0.9202\n",
      "Epoch 20/20\n",
      "90/90 [==============================] - 132s 1s/step - loss: 0.1020 - accuracy: 0.9621 - val_loss: 0.1138 - val_accuracy: 0.9621\n"
     ]
    },
    {
     "data": {
      "text/plain": [
       "<keras.src.callbacks.History at 0x1f34000ca90>"
      ]
     },
     "execution_count": 46,
     "metadata": {},
     "output_type": "execute_result"
    }
   ],
   "source": [
    "model.fit(train_ds,epochs=20,validation_data=test_ds,initial_epoch=15)"
   ]
  },
  {
   "cell_type": "code",
   "execution_count": 47,
   "id": "a9c641f6",
   "metadata": {},
   "outputs": [
    {
     "name": "stdout",
     "output_type": "stream",
     "text": [
      "Epoch 21/25\n",
      "90/90 [==============================] - 131s 1s/step - loss: 0.0830 - accuracy: 0.9681 - val_loss: 0.1195 - val_accuracy: 0.9681\n",
      "Epoch 22/25\n",
      "90/90 [==============================] - 133s 1s/step - loss: 0.1032 - accuracy: 0.9558 - val_loss: 0.0953 - val_accuracy: 0.9601\n",
      "Epoch 23/25\n",
      "90/90 [==============================] - 139s 2s/step - loss: 0.0838 - accuracy: 0.9695 - val_loss: 0.1223 - val_accuracy: 0.9561\n",
      "Epoch 24/25\n",
      "90/90 [==============================] - 162s 2s/step - loss: 0.0769 - accuracy: 0.9674 - val_loss: 0.1035 - val_accuracy: 0.9641\n",
      "Epoch 25/25\n",
      "90/90 [==============================] - 170s 2s/step - loss: 0.1237 - accuracy: 0.9554 - val_loss: 0.1572 - val_accuracy: 0.9521\n"
     ]
    },
    {
     "data": {
      "text/plain": [
       "<keras.src.callbacks.History at 0x1f340203d50>"
      ]
     },
     "execution_count": 47,
     "metadata": {},
     "output_type": "execute_result"
    }
   ],
   "source": [
    "model.fit(train_ds,epochs=25,validation_data=test_ds,initial_epoch=20)"
   ]
  },
  {
   "cell_type": "code",
   "execution_count": 48,
   "id": "2bd404a7",
   "metadata": {},
   "outputs": [
    {
     "name": "stdout",
     "output_type": "stream",
     "text": [
      "Epoch 26/35\n",
      "90/90 [==============================] - 196s 2s/step - loss: 0.1089 - accuracy: 0.9579 - val_loss: 0.0633 - val_accuracy: 0.9800\n",
      "Epoch 27/35\n",
      "90/90 [==============================] - 188s 2s/step - loss: 0.0619 - accuracy: 0.9782 - val_loss: 0.0728 - val_accuracy: 0.9741\n",
      "Epoch 28/35\n",
      "90/90 [==============================] - 184s 2s/step - loss: 0.2148 - accuracy: 0.9084 - val_loss: 0.1542 - val_accuracy: 0.9341\n",
      "Epoch 29/35\n",
      "90/90 [==============================] - 179s 2s/step - loss: 0.0871 - accuracy: 0.9635 - val_loss: 0.1060 - val_accuracy: 0.9701\n",
      "Epoch 30/35\n",
      "90/90 [==============================] - 191s 2s/step - loss: 0.0906 - accuracy: 0.9667 - val_loss: 0.0885 - val_accuracy: 0.9601\n",
      "Epoch 31/35\n",
      "90/90 [==============================] - 192s 2s/step - loss: 0.0738 - accuracy: 0.9688 - val_loss: 0.0876 - val_accuracy: 0.9681\n",
      "Epoch 32/35\n",
      "90/90 [==============================] - 180s 2s/step - loss: 0.0587 - accuracy: 0.9800 - val_loss: 0.0483 - val_accuracy: 0.9860\n",
      "Epoch 33/35\n",
      "90/90 [==============================] - 181s 2s/step - loss: 0.0502 - accuracy: 0.9821 - val_loss: 0.0403 - val_accuracy: 0.9860\n",
      "Epoch 34/35\n",
      "90/90 [==============================] - 190s 2s/step - loss: 0.0486 - accuracy: 0.9828 - val_loss: 0.0472 - val_accuracy: 0.9840\n",
      "Epoch 35/35\n",
      "90/90 [==============================] - 194s 2s/step - loss: 0.0419 - accuracy: 0.9828 - val_loss: 0.0715 - val_accuracy: 0.9820\n"
     ]
    },
    {
     "data": {
      "text/plain": [
       "<keras.src.callbacks.History at 0x1f340373d50>"
      ]
     },
     "execution_count": 48,
     "metadata": {},
     "output_type": "execute_result"
    }
   ],
   "source": [
    "model.fit(train_ds,epochs=35,validation_data=test_ds,initial_epoch=25)"
   ]
  },
  {
   "cell_type": "code",
   "execution_count": 49,
   "id": "6f1426d9",
   "metadata": {},
   "outputs": [
    {
     "name": "stdout",
     "output_type": "stream",
     "text": [
      "Epoch 36/45\n",
      "90/90 [==============================] - 173s 2s/step - loss: 0.0629 - accuracy: 0.9740 - val_loss: 0.0785 - val_accuracy: 0.9661\n",
      "Epoch 37/45\n",
      "90/90 [==============================] - 174s 2s/step - loss: 0.0524 - accuracy: 0.9810 - val_loss: 0.1168 - val_accuracy: 0.9481\n",
      "Epoch 38/45\n",
      "90/90 [==============================] - 172s 2s/step - loss: 0.0447 - accuracy: 0.9849 - val_loss: 0.0710 - val_accuracy: 0.9780\n",
      "Epoch 39/45\n",
      "90/90 [==============================] - 172s 2s/step - loss: 0.0390 - accuracy: 0.9853 - val_loss: 0.0345 - val_accuracy: 0.9900\n",
      "Epoch 40/45\n",
      "90/90 [==============================] - 171s 2s/step - loss: 0.0399 - accuracy: 0.9870 - val_loss: 0.0693 - val_accuracy: 0.9800\n",
      "Epoch 41/45\n",
      "90/90 [==============================] - 171s 2s/step - loss: 0.0954 - accuracy: 0.9684 - val_loss: 0.0618 - val_accuracy: 0.9800\n",
      "Epoch 42/45\n",
      "90/90 [==============================] - 172s 2s/step - loss: 0.0450 - accuracy: 0.9839 - val_loss: 0.0657 - val_accuracy: 0.9780\n",
      "Epoch 43/45\n",
      "90/90 [==============================] - 165s 2s/step - loss: 0.0399 - accuracy: 0.9832 - val_loss: 0.0617 - val_accuracy: 0.9760\n",
      "Epoch 44/45\n",
      "90/90 [==============================] - 127s 1s/step - loss: 0.0319 - accuracy: 0.9877 - val_loss: 0.0593 - val_accuracy: 0.9820\n",
      "Epoch 45/45\n",
      "90/90 [==============================] - 127s 1s/step - loss: 0.0364 - accuracy: 0.9874 - val_loss: 0.0753 - val_accuracy: 0.9721\n"
     ]
    },
    {
     "data": {
      "text/plain": [
       "<keras.src.callbacks.History at 0x1f33fe83d50>"
      ]
     },
     "execution_count": 49,
     "metadata": {},
     "output_type": "execute_result"
    }
   ],
   "source": [
    "model.fit(train_ds,epochs=45,validation_data=test_ds,initial_epoch=35)"
   ]
  },
  {
   "cell_type": "code",
   "execution_count": 50,
   "id": "1c1b70f9",
   "metadata": {},
   "outputs": [
    {
     "name": "stdout",
     "output_type": "stream",
     "text": [
      "Epoch 46/50\n",
      "90/90 [==============================] - 126s 1s/step - loss: 0.0260 - accuracy: 0.9916 - val_loss: 0.0268 - val_accuracy: 0.9900\n",
      "Epoch 47/50\n",
      "90/90 [==============================] - 130s 1s/step - loss: 0.0337 - accuracy: 0.9891 - val_loss: 0.0386 - val_accuracy: 0.9900\n",
      "Epoch 48/50\n",
      "90/90 [==============================] - 132s 1s/step - loss: 0.0279 - accuracy: 0.9909 - val_loss: 0.0357 - val_accuracy: 0.9880\n",
      "Epoch 49/50\n",
      "90/90 [==============================] - 132s 1s/step - loss: 0.0327 - accuracy: 0.9905 - val_loss: 0.0534 - val_accuracy: 0.9880\n",
      "Epoch 50/50\n",
      "90/90 [==============================] - 131s 1s/step - loss: 0.0418 - accuracy: 0.9842 - val_loss: 0.0617 - val_accuracy: 0.9701\n"
     ]
    },
    {
     "data": {
      "text/plain": [
       "<keras.src.callbacks.History at 0x1f340393d50>"
      ]
     },
     "execution_count": 50,
     "metadata": {},
     "output_type": "execute_result"
    }
   ],
   "source": [
    "model.fit(train_ds,epochs=50,validation_data=test_ds,initial_epoch=45)"
   ]
  },
  {
   "cell_type": "code",
   "execution_count": 51,
   "id": "a1267be0",
   "metadata": {},
   "outputs": [],
   "source": [
    "model.save(\"Gender_detection_model.keras\")"
   ]
  }
 ],
 "metadata": {
  "kernelspec": {
   "display_name": "Python 3 (ipykernel)",
   "language": "python",
   "name": "python3"
  },
  "language_info": {
   "codemirror_mode": {
    "name": "ipython",
    "version": 3
   },
   "file_extension": ".py",
   "mimetype": "text/x-python",
   "name": "python",
   "nbconvert_exporter": "python",
   "pygments_lexer": "ipython3",
   "version": "3.11.5"
  }
 },
 "nbformat": 4,
 "nbformat_minor": 5
}
